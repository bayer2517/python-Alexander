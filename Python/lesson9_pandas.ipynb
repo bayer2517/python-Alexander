{
 "cells": [
  {
   "cell_type": "code",
   "execution_count": 17,
   "metadata": {},
   "outputs": [
    {
     "name": "stdout",
     "output_type": "stream",
     "text": [
      "<mysql.connector.connection_cext.CMySQLConnection object at 0x0000021FF49BE480>\n"
     ]
    }
   ],
   "source": [
    "import pandas as pd #importing the pandas library with an alias pd\n",
    "from mysql.connector import connect, Error #importing connect and error to setup connection and establishing session with mysql server and handle errors\n",
    "\n",
    "try: #use try/except to handle the error\n",
    "    with connect( #giving parametrs to establish connection to mysql\n",
    "        host=\"localhost\", #creating variable hostname\n",
    "        user=\"root\", #creating user variable which is user that we are\n",
    "        password=\"\", #creating variable for password\n",
    "    ) as connection: #if connection established (200)\n",
    "        print(connection) # showes what connection established\n",
    "except Error as e: #except is going to be our output if any error interruped connection\n",
    "    print(e) #print what error we have"
   ]
  }
 ],
 "metadata": {
  "kernelspec": {
   "display_name": "venv_conda",
   "language": "python",
   "name": "python3"
  },
  "language_info": {
   "codemirror_mode": {
    "name": "ipython",
    "version": 3
   },
   "file_extension": ".py",
   "mimetype": "text/x-python",
   "name": "python",
   "nbconvert_exporter": "python",
   "pygments_lexer": "ipython3",
   "version": "3.12.0"
  }
 },
 "nbformat": 4,
 "nbformat_minor": 2
}
